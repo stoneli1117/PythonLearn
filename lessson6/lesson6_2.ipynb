{
 "cells": [
  {
   "cell_type": "code",
   "execution_count": 4,
   "metadata": {},
   "outputs": [
    {
     "name": "stdout",
     "output_type": "stream",
     "text": [
      "成績:甲\n"
     ]
    }
   ],
   "source": [
    "scores = int(input('請輸入學生分數(最高三百分):'))\n",
    "if scores>=220:\n",
    "    print('成績:優')\n",
    "elif scores>=180:\n",
    "    print('成績:甲')\n",
    "else:\n",
    "    print('不及格')\n"
   ]
  }
 ],
 "metadata": {
  "kernelspec": {
   "display_name": "Python 3",
   "language": "python",
   "name": "python3"
  },
  "language_info": {
   "codemirror_mode": {
    "name": "ipython",
    "version": 3
   },
   "file_extension": ".py",
   "mimetype": "text/x-python",
   "name": "python",
   "nbconvert_exporter": "python",
   "pygments_lexer": "ipython3",
   "version": "3.10.14"
  }
 },
 "nbformat": 4,
 "nbformat_minor": 2
}
