{
 "cells": [
  {
   "cell_type": "code",
   "execution_count": 1,
   "metadata": {},
   "outputs": [
    {
     "name": "stdout",
     "output_type": "stream",
     "text": [
      "格是錯誤:身高必須大於120同時小於230\n"
     ]
    }
   ],
   "source": [
    "try:\n",
    "    name =input('請輸入名字:')\n",
    "    height = float(input('請輸入身高:'))\n",
    "    if height<120 or height>230:\n",
    "        raise Exception(\"身高必須大於120同時小於230\")\n",
    "    weight = float(input('請輸入體重'))\n",
    "    BMI = round(weight/((height/100)**2),2)\n",
    "    print(f'{name}的BMI指數為{BMI}')\n",
    "except Exception as e:\n",
    "    print(f'格式錯誤:{e}')"
   ]
  }
 ],
 "metadata": {
  "kernelspec": {
   "display_name": "Python 3",
   "language": "python",
   "name": "python3"
  },
  "language_info": {
   "codemirror_mode": {
    "name": "ipython",
    "version": 3
   },
   "file_extension": ".py",
   "mimetype": "text/x-python",
   "name": "python",
   "nbconvert_exporter": "python",
   "pygments_lexer": "ipython3",
   "version": "3.10.14"
  }
 },
 "nbformat": 4,
 "nbformat_minor": 2
}
